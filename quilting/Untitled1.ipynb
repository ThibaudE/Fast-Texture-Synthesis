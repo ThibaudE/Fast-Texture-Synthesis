{
  "nbformat": 4,
  "nbformat_minor": 0,
  "metadata": {
    "colab": {
      "provenance": []
    },
    "kernelspec": {
      "name": "python3",
      "display_name": "Python 3"
    },
    "language_info": {
      "name": "python"
    },
    "widgets": {
      "application/vnd.jupyter.widget-state+json": {
        "950b551a8d58459a9cf2250051c3362f": {
          "model_module": "@jupyter-widgets/controls",
          "model_name": "HBoxModel",
          "model_module_version": "1.5.0",
          "state": {
            "_dom_classes": [],
            "_model_module": "@jupyter-widgets/controls",
            "_model_module_version": "1.5.0",
            "_model_name": "HBoxModel",
            "_view_count": null,
            "_view_module": "@jupyter-widgets/controls",
            "_view_module_version": "1.5.0",
            "_view_name": "HBoxView",
            "box_style": "",
            "children": [
              "IPY_MODEL_ad89db698eb04dfbaa7f0b82eae4df12",
              "IPY_MODEL_d8d72e84b5c74496a0d924ff4b14e5c7",
              "IPY_MODEL_f971808925d34df5974c80f98bba8834"
            ],
            "layout": "IPY_MODEL_41d5b7a4bd9744f1b4eb3371d939a40c"
          }
        },
        "ad89db698eb04dfbaa7f0b82eae4df12": {
          "model_module": "@jupyter-widgets/controls",
          "model_name": "HTMLModel",
          "model_module_version": "1.5.0",
          "state": {
            "_dom_classes": [],
            "_model_module": "@jupyter-widgets/controls",
            "_model_module_version": "1.5.0",
            "_model_name": "HTMLModel",
            "_view_count": null,
            "_view_module": "@jupyter-widgets/controls",
            "_view_module_version": "1.5.0",
            "_view_name": "HTMLView",
            "description": "",
            "description_tooltip": null,
            "layout": "IPY_MODEL_6b87a15169594370b0ccd7596c64b862",
            "placeholder": "​",
            "style": "IPY_MODEL_f8dd88a1c86b4fbeb780c55131905e7e",
            "value": "100%"
          }
        },
        "d8d72e84b5c74496a0d924ff4b14e5c7": {
          "model_module": "@jupyter-widgets/controls",
          "model_name": "FloatProgressModel",
          "model_module_version": "1.5.0",
          "state": {
            "_dom_classes": [],
            "_model_module": "@jupyter-widgets/controls",
            "_model_module_version": "1.5.0",
            "_model_name": "FloatProgressModel",
            "_view_count": null,
            "_view_module": "@jupyter-widgets/controls",
            "_view_module_version": "1.5.0",
            "_view_name": "ProgressView",
            "bar_style": "success",
            "description": "",
            "description_tooltip": null,
            "layout": "IPY_MODEL_649aef23962e4526a626d7286c34c6db",
            "max": 574673361,
            "min": 0,
            "orientation": "horizontal",
            "style": "IPY_MODEL_926b67a2fd1c43868b18c452a0bd982f",
            "value": 574673361
          }
        },
        "f971808925d34df5974c80f98bba8834": {
          "model_module": "@jupyter-widgets/controls",
          "model_name": "HTMLModel",
          "model_module_version": "1.5.0",
          "state": {
            "_dom_classes": [],
            "_model_module": "@jupyter-widgets/controls",
            "_model_module_version": "1.5.0",
            "_model_name": "HTMLModel",
            "_view_count": null,
            "_view_module": "@jupyter-widgets/controls",
            "_view_module_version": "1.5.0",
            "_view_name": "HTMLView",
            "description": "",
            "description_tooltip": null,
            "layout": "IPY_MODEL_d2157ac7baca407f8fc2477a1e6d54ab",
            "placeholder": "​",
            "style": "IPY_MODEL_d4e6a074764f42278e8a4fd62e5d628f",
            "value": " 548M/548M [00:06&lt;00:00, 140MB/s]"
          }
        },
        "41d5b7a4bd9744f1b4eb3371d939a40c": {
          "model_module": "@jupyter-widgets/base",
          "model_name": "LayoutModel",
          "model_module_version": "1.2.0",
          "state": {
            "_model_module": "@jupyter-widgets/base",
            "_model_module_version": "1.2.0",
            "_model_name": "LayoutModel",
            "_view_count": null,
            "_view_module": "@jupyter-widgets/base",
            "_view_module_version": "1.2.0",
            "_view_name": "LayoutView",
            "align_content": null,
            "align_items": null,
            "align_self": null,
            "border": null,
            "bottom": null,
            "display": null,
            "flex": null,
            "flex_flow": null,
            "grid_area": null,
            "grid_auto_columns": null,
            "grid_auto_flow": null,
            "grid_auto_rows": null,
            "grid_column": null,
            "grid_gap": null,
            "grid_row": null,
            "grid_template_areas": null,
            "grid_template_columns": null,
            "grid_template_rows": null,
            "height": null,
            "justify_content": null,
            "justify_items": null,
            "left": null,
            "margin": null,
            "max_height": null,
            "max_width": null,
            "min_height": null,
            "min_width": null,
            "object_fit": null,
            "object_position": null,
            "order": null,
            "overflow": null,
            "overflow_x": null,
            "overflow_y": null,
            "padding": null,
            "right": null,
            "top": null,
            "visibility": null,
            "width": null
          }
        },
        "6b87a15169594370b0ccd7596c64b862": {
          "model_module": "@jupyter-widgets/base",
          "model_name": "LayoutModel",
          "model_module_version": "1.2.0",
          "state": {
            "_model_module": "@jupyter-widgets/base",
            "_model_module_version": "1.2.0",
            "_model_name": "LayoutModel",
            "_view_count": null,
            "_view_module": "@jupyter-widgets/base",
            "_view_module_version": "1.2.0",
            "_view_name": "LayoutView",
            "align_content": null,
            "align_items": null,
            "align_self": null,
            "border": null,
            "bottom": null,
            "display": null,
            "flex": null,
            "flex_flow": null,
            "grid_area": null,
            "grid_auto_columns": null,
            "grid_auto_flow": null,
            "grid_auto_rows": null,
            "grid_column": null,
            "grid_gap": null,
            "grid_row": null,
            "grid_template_areas": null,
            "grid_template_columns": null,
            "grid_template_rows": null,
            "height": null,
            "justify_content": null,
            "justify_items": null,
            "left": null,
            "margin": null,
            "max_height": null,
            "max_width": null,
            "min_height": null,
            "min_width": null,
            "object_fit": null,
            "object_position": null,
            "order": null,
            "overflow": null,
            "overflow_x": null,
            "overflow_y": null,
            "padding": null,
            "right": null,
            "top": null,
            "visibility": null,
            "width": null
          }
        },
        "f8dd88a1c86b4fbeb780c55131905e7e": {
          "model_module": "@jupyter-widgets/controls",
          "model_name": "DescriptionStyleModel",
          "model_module_version": "1.5.0",
          "state": {
            "_model_module": "@jupyter-widgets/controls",
            "_model_module_version": "1.5.0",
            "_model_name": "DescriptionStyleModel",
            "_view_count": null,
            "_view_module": "@jupyter-widgets/base",
            "_view_module_version": "1.2.0",
            "_view_name": "StyleView",
            "description_width": ""
          }
        },
        "649aef23962e4526a626d7286c34c6db": {
          "model_module": "@jupyter-widgets/base",
          "model_name": "LayoutModel",
          "model_module_version": "1.2.0",
          "state": {
            "_model_module": "@jupyter-widgets/base",
            "_model_module_version": "1.2.0",
            "_model_name": "LayoutModel",
            "_view_count": null,
            "_view_module": "@jupyter-widgets/base",
            "_view_module_version": "1.2.0",
            "_view_name": "LayoutView",
            "align_content": null,
            "align_items": null,
            "align_self": null,
            "border": null,
            "bottom": null,
            "display": null,
            "flex": null,
            "flex_flow": null,
            "grid_area": null,
            "grid_auto_columns": null,
            "grid_auto_flow": null,
            "grid_auto_rows": null,
            "grid_column": null,
            "grid_gap": null,
            "grid_row": null,
            "grid_template_areas": null,
            "grid_template_columns": null,
            "grid_template_rows": null,
            "height": null,
            "justify_content": null,
            "justify_items": null,
            "left": null,
            "margin": null,
            "max_height": null,
            "max_width": null,
            "min_height": null,
            "min_width": null,
            "object_fit": null,
            "object_position": null,
            "order": null,
            "overflow": null,
            "overflow_x": null,
            "overflow_y": null,
            "padding": null,
            "right": null,
            "top": null,
            "visibility": null,
            "width": null
          }
        },
        "926b67a2fd1c43868b18c452a0bd982f": {
          "model_module": "@jupyter-widgets/controls",
          "model_name": "ProgressStyleModel",
          "model_module_version": "1.5.0",
          "state": {
            "_model_module": "@jupyter-widgets/controls",
            "_model_module_version": "1.5.0",
            "_model_name": "ProgressStyleModel",
            "_view_count": null,
            "_view_module": "@jupyter-widgets/base",
            "_view_module_version": "1.2.0",
            "_view_name": "StyleView",
            "bar_color": null,
            "description_width": ""
          }
        },
        "d2157ac7baca407f8fc2477a1e6d54ab": {
          "model_module": "@jupyter-widgets/base",
          "model_name": "LayoutModel",
          "model_module_version": "1.2.0",
          "state": {
            "_model_module": "@jupyter-widgets/base",
            "_model_module_version": "1.2.0",
            "_model_name": "LayoutModel",
            "_view_count": null,
            "_view_module": "@jupyter-widgets/base",
            "_view_module_version": "1.2.0",
            "_view_name": "LayoutView",
            "align_content": null,
            "align_items": null,
            "align_self": null,
            "border": null,
            "bottom": null,
            "display": null,
            "flex": null,
            "flex_flow": null,
            "grid_area": null,
            "grid_auto_columns": null,
            "grid_auto_flow": null,
            "grid_auto_rows": null,
            "grid_column": null,
            "grid_gap": null,
            "grid_row": null,
            "grid_template_areas": null,
            "grid_template_columns": null,
            "grid_template_rows": null,
            "height": null,
            "justify_content": null,
            "justify_items": null,
            "left": null,
            "margin": null,
            "max_height": null,
            "max_width": null,
            "min_height": null,
            "min_width": null,
            "object_fit": null,
            "object_position": null,
            "order": null,
            "overflow": null,
            "overflow_x": null,
            "overflow_y": null,
            "padding": null,
            "right": null,
            "top": null,
            "visibility": null,
            "width": null
          }
        },
        "d4e6a074764f42278e8a4fd62e5d628f": {
          "model_module": "@jupyter-widgets/controls",
          "model_name": "DescriptionStyleModel",
          "model_module_version": "1.5.0",
          "state": {
            "_model_module": "@jupyter-widgets/controls",
            "_model_module_version": "1.5.0",
            "_model_name": "DescriptionStyleModel",
            "_view_count": null,
            "_view_module": "@jupyter-widgets/base",
            "_view_module_version": "1.2.0",
            "_view_name": "StyleView",
            "description_width": ""
          }
        }
      }
    }
  },
  "cells": [
    {
      "cell_type": "code",
      "execution_count": null,
      "metadata": {
        "colab": {
          "base_uri": "https://localhost:8080/",
          "height": 156,
          "referenced_widgets": [
            "950b551a8d58459a9cf2250051c3362f",
            "ad89db698eb04dfbaa7f0b82eae4df12",
            "d8d72e84b5c74496a0d924ff4b14e5c7",
            "f971808925d34df5974c80f98bba8834",
            "41d5b7a4bd9744f1b4eb3371d939a40c",
            "6b87a15169594370b0ccd7596c64b862",
            "f8dd88a1c86b4fbeb780c55131905e7e",
            "649aef23962e4526a626d7286c34c6db",
            "926b67a2fd1c43868b18c452a0bd982f",
            "d2157ac7baca407f8fc2477a1e6d54ab",
            "d4e6a074764f42278e8a4fd62e5d628f"
          ]
        },
        "id": "e1QpJEr5OeaM",
        "outputId": "edd026e5-af1d-4d1d-d7dc-3c13dc7ed963"
      },
      "outputs": [
        {
          "output_type": "stream",
          "name": "stderr",
          "text": [
            "/usr/local/lib/python3.9/dist-packages/torchvision/models/_utils.py:208: UserWarning: The parameter 'pretrained' is deprecated since 0.13 and may be removed in the future, please use 'weights' instead.\n",
            "  warnings.warn(\n",
            "/usr/local/lib/python3.9/dist-packages/torchvision/models/_utils.py:223: UserWarning: Arguments other than a weight enum or `None` for 'weights' are deprecated since 0.13 and may be removed in the future. The current behavior is equivalent to passing `weights=VGG19_Weights.IMAGENET1K_V1`. You can also use `weights=VGG19_Weights.DEFAULT` to get the most up-to-date weights.\n",
            "  warnings.warn(msg)\n",
            "Downloading: \"https://download.pytorch.org/models/vgg19-dcbb9e9d.pth\" to /root/.cache/torch/hub/checkpoints/vgg19-dcbb9e9d.pth\n"
          ]
        },
        {
          "output_type": "display_data",
          "data": {
            "text/plain": [
              "  0%|          | 0.00/548M [00:00<?, ?B/s]"
            ],
            "application/vnd.jupyter.widget-view+json": {
              "version_major": 2,
              "version_minor": 0,
              "model_id": "950b551a8d58459a9cf2250051c3362f"
            }
          },
          "metadata": {}
        }
      ],
      "source": [
        "import torchvision\n"
      ]
    },
    {
      "cell_type": "code",
      "source": [
        "from torchvision import models\n",
        "from collections import namedtuple\n",
        "import torch\n",
        "import torch.nn as nn\n",
        "\n",
        "\n",
        "class vgg19(nn.Module):\n",
        "    \n",
        "    def __init__(self, pre_trained = True, require_grad = False):\n",
        "        super(vgg19, self).__init__()\n",
        "        self.vgg_feature = models.vgg19(pretrained = pre_trained).features\n",
        "        self.seq_list = [nn.Sequential(ele) for ele in self.vgg_feature]\n",
        "        self.vgg_layer = ['conv1_1', 'relu1_1', 'conv1_2', 'relu1_2', 'pool1', \n",
        "                         'conv2_1', 'relu2_1', 'conv2_2', 'relu2_2', 'pool2',\n",
        "                         'conv3_1', 'relu3_1', 'conv3_2', 'relu3_2', 'conv3_3', 'relu3_3', 'conv3_4', 'relu3_4', 'pool3',\n",
        "                         'conv4_1', 'relu4_1', 'conv4_2', 'relu4_2', 'conv4_3', 'relu4_3', 'conv4_4', 'relu4_4', 'pool4',\n",
        "                         'conv5_1', 'relu5_1', 'conv5_2', 'relu5_2', 'conv5_3', 'relu5_3', 'conv5_4', 'relu5_4', 'pool5']\n",
        "        \n",
        "        if not require_grad:\n",
        "            for parameter in self.parameters():\n",
        "                parameter.requires_grad = False\n",
        "        \n",
        "    def forward(self, x):\n",
        "        \n",
        "        conv1_1 = self.seq_list[0](x)\n",
        "        relu1_1 = self.seq_list[1](conv1_1)\n",
        "        conv1_2 = self.seq_list[2](relu1_1)\n",
        "        relu1_2 = self.seq_list[3](conv1_2)\n",
        "        pool1 = self.seq_list[4](relu1_2)\n",
        "        \n",
        "        conv2_1 = self.seq_list[5](pool1)\n",
        "        relu2_1 = self.seq_list[6](conv2_1)\n",
        "        conv2_2 = self.seq_list[7](relu2_1)\n",
        "        relu2_2 = self.seq_list[8](conv2_2)\n",
        "        pool2 = self.seq_list[9](relu2_2)\n",
        "        \n",
        "        conv3_1 = self.seq_list[10](pool2)\n",
        "        relu3_1 = self.seq_list[11](conv3_1)\n",
        "        conv3_2 = self.seq_list[12](relu3_1)\n",
        "        relu3_2 = self.seq_list[13](conv3_2)\n",
        "        conv3_3 = self.seq_list[14](relu3_2)\n",
        "        relu3_3 = self.seq_list[15](conv3_3)\n",
        "        conv3_4 = self.seq_list[16](relu3_3)\n",
        "        relu3_4 = self.seq_list[17](conv3_4)\n",
        "        pool3 = self.seq_list[18](relu3_4)\n",
        "        \n",
        "        conv4_1 = self.seq_list[19](pool3)\n",
        "        relu4_1 = self.seq_list[20](conv4_1)\n",
        "        conv4_2 = self.seq_list[21](relu4_1)\n",
        "        relu4_2 = self.seq_list[22](conv4_2)\n",
        "        conv4_3 = self.seq_list[23](relu4_2)\n",
        "        relu4_3 = self.seq_list[24](conv4_3)\n",
        "        conv4_4 = self.seq_list[25](relu4_3)\n",
        "        relu4_4 = self.seq_list[26](conv4_4)\n",
        "        pool4 = self.seq_list[27](relu4_4)\n",
        "        \n",
        "        conv5_1 = self.seq_list[28](pool4)\n",
        "        relu5_1 = self.seq_list[29](conv5_1)\n",
        "        conv5_2 = self.seq_list[30](relu5_1)\n",
        "        relu5_2 = self.seq_list[31](conv5_2)\n",
        "        conv5_3 = self.seq_list[32](relu5_2)\n",
        "        relu5_3 = self.seq_list[33](conv5_3)\n",
        "        conv5_4 = self.seq_list[34](relu5_3)\n",
        "        relu5_4 = self.seq_list[35](conv5_4)\n",
        "        pool5 = self.seq_list[36](relu5_4)\n",
        "        \n",
        "        vgg_output = namedtuple(\"vgg_output\", self.vgg_layer)\n",
        "        \n",
        "        vgg_list = [conv1_1, relu1_1, conv1_2, relu1_2, pool1, \n",
        "                         conv2_1, relu2_1, conv2_2, relu2_2, pool2,\n",
        "                         conv3_1, relu3_1, conv3_2, relu3_2, conv3_3, relu3_3, conv3_4, relu3_4, pool3,\n",
        "                         conv4_1, relu4_1, conv4_2, relu4_2, conv4_3, relu4_3, conv4_4, relu4_4, pool4,\n",
        "                         conv5_1, relu5_1, conv5_2, relu5_2, conv5_3, relu5_3, conv5_4, relu5_4, pool5]\n",
        "        \n",
        "        out = vgg_output(*vgg_list)\n",
        "        \n",
        "        \n",
        "        return out\n",
        "        \n"
      ],
      "metadata": {
        "id": "lG1vIFewSoF8"
      },
      "execution_count": null,
      "outputs": []
    },
    {
      "cell_type": "code",
      "source": [
        "import torch\n",
        "from torchvision import transforms\n",
        "from PIL import Image\n",
        "import glob\n",
        "import os\n",
        "\n",
        "\n",
        "def image_loader(image_name):\n",
        "    image = Image.open(image_name)\n",
        "    # fake batch dimension required to fit network's input dimensions\n",
        "    image = loader(image).unsqueeze(0)\n",
        "    return image.to(device)\n",
        "\n",
        "\n",
        "folder = './images'\n",
        "feature_layer = 'conv4_2'\n",
        "\n",
        "features = []\n",
        "\n",
        "for image_path in glob.glob(os.path.join(folder, '*.jpg')):\n",
        "\n",
        "  device = torch.device(\"cuda\" if torch.cuda.is_available() else \"cpu\")\n",
        "\n",
        "  normalization_mean = [0.485, 0.456, 0.406]\n",
        "  normalization_std = [0.229, 0.224, 0.225]\n",
        "\n",
        "  loader  = transforms.Compose([transforms.ToTensor(), \n",
        "                                  transforms.Normalize(mean = normalization_mean, std = normalization_std)])\n",
        "\n",
        "  vgg = vgg19().to(device)\n",
        "  img = image_loader(image_path)\n",
        "\n",
        "  vgg_features = vgg(img)\n",
        "  feature = getattr(vgg_features, feature_layer)\n",
        "\n",
        "  features.append(feature)"
      ],
      "metadata": {
        "colab": {
          "base_uri": "https://localhost:8080/",
          "height": 200
        },
        "id": "PzEabLePStHi",
        "outputId": "a1599741-2397-4f82-855f-8b700ae34dc2"
      },
      "execution_count": null,
      "outputs": [
        {
          "output_type": "stream",
          "name": "stderr",
          "text": [
            "usage: ipykernel_launcher.py [-h] [--image_path IMAGE_PATH]\n",
            "                             [--feature_layer FEATURE_LAYER]\n",
            "ipykernel_launcher.py: error: unrecognized arguments: -f /root/.local/share/jupyter/runtime/kernel-71bc2451-8888-447b-8be0-c00e6a0d6032.json\n"
          ]
        },
        {
          "output_type": "error",
          "ename": "SystemExit",
          "evalue": "ignored",
          "traceback": [
            "An exception has occurred, use %tb to see the full traceback.\n",
            "\u001b[0;31mSystemExit\u001b[0m\u001b[0;31m:\u001b[0m 2\n"
          ]
        },
        {
          "output_type": "stream",
          "name": "stderr",
          "text": [
            "/usr/local/lib/python3.9/dist-packages/IPython/core/interactiveshell.py:3334: UserWarning: To exit: use 'exit', 'quit', or Ctrl-D.\n",
            "  warn(\"To exit: use 'exit', 'quit', or Ctrl-D.\", stacklevel=1)\n"
          ]
        }
      ]
    },
    {
      "cell_type": "code",
      "source": [
        "N = len(features)\n",
        "f = torch.stack(features)\n",
        "\n",
        "losses = []\n",
        "\n",
        "for i in range(100):\n",
        "  permuts = torch.randperm(N)\n",
        "  losses.append(torch.sum(torch.abs(f - f[permuts])))\n",
        "  \n",
        "div_loss = torch.mean(torch.stack(losses))\n",
        "\n",
        "\n"
      ],
      "metadata": {
        "id": "AjnqU3q3U9Qf"
      },
      "execution_count": null,
      "outputs": []
    }
  ]
}