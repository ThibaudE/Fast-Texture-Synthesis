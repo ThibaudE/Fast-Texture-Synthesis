{
  "nbformat": 4,
  "nbformat_minor": 0,
  "metadata": {
    "colab": {
      "provenance": []
    },
    "kernelspec": {
      "name": "python3",
      "display_name": "Python 3"
    },
    "language_info": {
      "name": "python"
    },
    "accelerator": "GPU",
    "gpuClass": "standard"
  },
  "cells": [
    {
      "cell_type": "code",
      "source": [
        "from google.colab import drive\n",
        "import os\n",
        "drive.mount('/drive')"
      ],
      "metadata": {
        "colab": {
          "base_uri": "https://localhost:8080/"
        },
        "id": "_LBfR4UsBoxE",
        "outputId": "c875c94b-6641-4dbb-a6fc-330b3de6ac97"
      },
      "execution_count": 3,
      "outputs": [
        {
          "output_type": "stream",
          "name": "stdout",
          "text": [
            "Drive already mounted at /drive; to attempt to forcibly remount, call drive.mount(\"/drive\", force_remount=True).\n"
          ]
        }
      ]
    },
    {
      "cell_type": "code",
      "source": [
        "!pip install tensorpack"
      ],
      "metadata": {
        "colab": {
          "base_uri": "https://localhost:8080/"
        },
        "id": "msicTe3VDzKv",
        "outputId": "38d338da-93f2-4687-fe4c-23f0d44c38d7"
      },
      "execution_count": 4,
      "outputs": [
        {
          "output_type": "stream",
          "name": "stdout",
          "text": [
            "Looking in indexes: https://pypi.org/simple, https://us-python.pkg.dev/colab-wheels/public/simple/\n",
            "Collecting tensorpack\n",
            "  Downloading tensorpack-0.11-py2.py3-none-any.whl (296 kB)\n",
            "\u001b[2K     \u001b[90m━━━━━━━━━━━━━━━━━━━━━━━━━━━━━━━━━━━━━━\u001b[0m \u001b[32m296.3/296.3 KB\u001b[0m \u001b[31m22.2 MB/s\u001b[0m eta \u001b[36m0:00:00\u001b[0m\n",
            "\u001b[?25hRequirement already satisfied: tqdm>4.29.0 in /usr/local/lib/python3.9/dist-packages (from tensorpack) (4.65.0)\n",
            "Requirement already satisfied: six in /usr/local/lib/python3.9/dist-packages (from tensorpack) (1.15.0)\n",
            "Requirement already satisfied: tabulate>=0.7.7 in /usr/local/lib/python3.9/dist-packages (from tensorpack) (0.8.10)\n",
            "Requirement already satisfied: msgpack>=0.5.2 in /usr/local/lib/python3.9/dist-packages (from tensorpack) (1.0.5)\n",
            "Requirement already satisfied: pyzmq>=16 in /usr/local/lib/python3.9/dist-packages (from tensorpack) (23.2.1)\n",
            "Requirement already satisfied: psutil>=5 in /usr/local/lib/python3.9/dist-packages (from tensorpack) (5.4.8)\n",
            "Requirement already satisfied: termcolor>=1.1 in /usr/local/lib/python3.9/dist-packages (from tensorpack) (2.2.0)\n",
            "Requirement already satisfied: numpy>=1.14 in /usr/local/lib/python3.9/dist-packages (from tensorpack) (1.22.4)\n",
            "Collecting msgpack-numpy>=0.4.4.2\n",
            "  Downloading msgpack_numpy-0.4.8-py2.py3-none-any.whl (6.9 kB)\n",
            "Installing collected packages: msgpack-numpy, tensorpack\n",
            "Successfully installed msgpack-numpy-0.4.8 tensorpack-0.11\n"
          ]
        }
      ]
    },
    {
      "cell_type": "code",
      "execution_count": 5,
      "metadata": {
        "colab": {
          "base_uri": "https://localhost:8080/"
        },
        "id": "GviRGl2Z_SbV",
        "outputId": "5ea40325-94d1-476a-cbe5-2b5054bfc8f0"
      },
      "outputs": [
        {
          "output_type": "stream",
          "name": "stdout",
          "text": [
            "Cloning into 'Fast-Texture-Synthesis'...\n",
            "remote: Enumerating objects: 68, done.\u001b[K\n",
            "remote: Counting objects: 100% (68/68), done.\u001b[K\n",
            "remote: Compressing objects: 100% (46/46), done.\u001b[K\n",
            "remote: Total 68 (delta 19), reused 57 (delta 14), pack-reused 0\u001b[K\n",
            "Unpacking objects: 100% (68/68), 40.34 MiB | 2.58 MiB/s, done.\n"
          ]
        }
      ],
      "source": [
        "!git clone https://github.com/ThibaudE/Fast-Texture-Synthesis.git"
      ]
    },
    {
      "cell_type": "code",
      "source": [
        "!cd Fast-Texture-Synthesis/texture_utils/ && wget https://s3-us-west-2.amazonaws.com/wengaoye/vgg19_normalised.npz"
      ],
      "metadata": {
        "colab": {
          "base_uri": "https://localhost:8080/"
        },
        "id": "yFvrbpcI_Z3E",
        "outputId": "ff3df819-5136-4e35-e5e8-5a9ca26ec478"
      },
      "execution_count": 6,
      "outputs": [
        {
          "output_type": "stream",
          "name": "stdout",
          "text": [
            "--2023-03-17 10:20:19--  https://s3-us-west-2.amazonaws.com/wengaoye/vgg19_normalised.npz\n",
            "Resolving s3-us-west-2.amazonaws.com (s3-us-west-2.amazonaws.com)... 52.218.248.16, 52.218.250.208, 52.92.146.64, ...\n",
            "Connecting to s3-us-west-2.amazonaws.com (s3-us-west-2.amazonaws.com)|52.218.248.16|:443... connected.\n",
            "HTTP request sent, awaiting response... 200 OK\n",
            "Length: 160200914 (153M) [application/x-www-form-urlencoded]\n",
            "Saving to: ‘vgg19_normalised.npz’\n",
            "\n",
            "vgg19_normalised.np 100%[===================>] 152.78M  14.9MB/s    in 11s     \n",
            "\n",
            "2023-03-17 10:20:30 (14.1 MB/s) - ‘vgg19_normalised.npz’ saved [160200914/160200914]\n",
            "\n"
          ]
        }
      ]
    },
    {
      "cell_type": "code",
      "source": [
        "!cp -a \"/drive/MyDrive/DASCI/Computer Imaging/Fast Texture Synthesis project/flower_beds_256/.\" \"/content/Fast-Texture-Synthesis/data/train/\""
      ],
      "metadata": {
        "id": "Ry2SZ043_5ra"
      },
      "execution_count": 7,
      "outputs": []
    },
    {
      "cell_type": "code",
      "source": [
        "!mkdir Fast-Texture-Synthesis/checkpoint"
      ],
      "metadata": {
        "id": "QHjVPFnZDkcR"
      },
      "execution_count": 8,
      "outputs": []
    },
    {
      "cell_type": "code",
      "source": [
        "!cd Fast-Texture-Synthesis && CUDA_VISIBLE_DEVICES=0 python po/adaptive_model.py --data-folder data --save-folder checkpoint --save-epoch 1"
      ],
      "metadata": {
        "colab": {
          "base_uri": "https://localhost:8080/"
        },
        "id": "1DXWTqZ0C5ax",
        "outputId": "2d7806e0-d56b-4476-e598-efba7f28d629"
      },
      "execution_count": null,
      "outputs": [
        {
          "output_type": "stream",
          "name": "stdout",
          "text": [
            "2023-03-17 10:21:34.928671: I tensorflow/core/platform/cpu_feature_guard.cc:193] This TensorFlow binary is optimized with oneAPI Deep Neural Network Library (oneDNN) to use the following CPU instructions in performance-critical operations:  AVX2 FMA\n",
            "To enable them in other operations, rebuild TensorFlow with the appropriate compiler flags.\n",
            "2023-03-17 10:21:36.025197: W tensorflow/compiler/xla/stream_executor/platform/default/dso_loader.cc:64] Could not load dynamic library 'libnvinfer.so.7'; dlerror: libnvinfer.so.7: cannot open shared object file: No such file or directory; LD_LIBRARY_PATH: /usr/lib64-nvidia\n",
            "2023-03-17 10:21:36.025302: W tensorflow/compiler/xla/stream_executor/platform/default/dso_loader.cc:64] Could not load dynamic library 'libnvinfer_plugin.so.7'; dlerror: libnvinfer_plugin.so.7: cannot open shared object file: No such file or directory; LD_LIBRARY_PATH: /usr/lib64-nvidia\n",
            "2023-03-17 10:21:36.025317: W tensorflow/compiler/tf2tensorrt/utils/py_utils.cc:38] TF-TRT Warning: Cannot dlopen some TensorRT libraries. If you would like to use Nvidia GPU with TensorRT, please make sure the missing libraries mentioned above are installed properly.\n",
            "Arguments\n",
            "act sigmoid\n",
            "act_type relu\n",
            "batch_size None\n",
            "beta1 0.5\n",
            "beta2 0.999\n",
            "data_folder data\n",
            "deconv_upsample False\n",
            "grad_ksize 3\n",
            "image_size 224\n",
            "image_steps None\n",
            "loss_scale 1.0\n",
            "lr 5e-05\n",
            "max_epoch 200\n",
            "n_block 2\n",
            "n_gpu 1\n",
            "n_stage 1\n",
            "norm_type instance\n",
            "pad_type reflect\n",
            "pre_act False\n",
            "save_epoch 1\n",
            "save_folder checkpoint\n",
            "scalar_steps 0\n",
            "steps_per_epoch 4000\n",
            "stop_grad False\n",
            "vgg19_npy_path None\n",
            "\n",
            "\u001b[32m[0317 10:21:37 @logger.py:92]\u001b[0m Argv: po/adaptive_model.py --data-folder data --save-folder checkpoint --save-epoch 1\n",
            "\u001b[32m[0317 10:21:37 @common.py:558]\u001b[0m [JoinData] Size check failed for the list of dataflow to be joined!\n",
            "VGG19 path is found at /content/Fast-Texture-Synthesis/texture_utils/vgg19_normalised.npz\n",
            "Break : pool4\n",
            "Key of data dict: ['conv1_1', 'conv1_2', 'conv2_1', 'conv2_2', 'conv3_1', 'conv3_2', 'conv3_3', 'conv3_4', 'conv4_1', 'conv4_2', 'conv4_3', 'conv4_4']\n",
            "Loaded vgg19 from /content/Fast-Texture-Synthesis/texture_utils/vgg19_normalised.npz\n",
            "\u001b[32m[0317 10:21:37 @input_source.py:221]\u001b[0m Setting up the queue 'QueueInput/input_queue' for CPU prefetching ...\n",
            "Build vgg19 model: vgg19\n",
            "Build vgg19 model: vgg19\n",
            "\u001b[32m[0317 10:21:38 @registry.py:90]\u001b[0m 'syn/stage0/pool4/grad_conv1': [?, 16, 16, 512] --> [?, 14, 14, 512]\n",
            "\u001b[32m[0317 10:21:38 @registry.py:90]\u001b[0m 'syn/stage0/pool4/grad_conv2': [?, 16, 16, 512] --> [?, 14, 14, 512]\n",
            "\u001b[32m[0317 10:21:38 @registry.py:90]\u001b[0m 'syn/stage0/pool4/res0/conv0': [?, 16, 16, 512] --> [?, 14, 14, 512]\n",
            "\u001b[32m[0317 10:21:38 @registry.py:90]\u001b[0m 'syn/stage0/pool4/res0/conv1': [?, 16, 16, 512] --> [?, 14, 14, 512]\n",
            "\u001b[32m[0317 10:21:38 @registry.py:90]\u001b[0m 'syn/stage0/pool4/res1/conv0': [?, 16, 16, 512] --> [?, 14, 14, 512]\n",
            "\u001b[32m[0317 10:21:38 @registry.py:90]\u001b[0m 'syn/stage0/pool4/res1/conv1': [?, 16, 16, 512] --> [?, 14, 14, 512]\n",
            "\u001b[32m[0317 10:21:38 @registry.py:90]\u001b[0m 'syn/stage0/pool3/grad_conv1': [?, 30, 30, 256] --> [?, 28, 28, 256]\n",
            "\u001b[32m[0317 10:21:38 @registry.py:90]\u001b[0m 'syn/stage0/pool3/grad_conv2': [?, 30, 30, 256] --> [?, 28, 28, 256]\n",
            "\u001b[32m[0317 10:21:38 @registry.py:90]\u001b[0m 'syn/stage0/pool3/up/conv': [?, 30, 30, 512] --> [?, 28, 28, 256]\n",
            "\u001b[32m[0317 10:21:38 @registry.py:90]\u001b[0m 'syn/stage0/pool3/res0/conv0': [?, 30, 30, 256] --> [?, 28, 28, 256]\n",
            "\u001b[32m[0317 10:21:38 @registry.py:90]\u001b[0m 'syn/stage0/pool3/res0/conv1': [?, 30, 30, 256] --> [?, 28, 28, 256]\n",
            "\u001b[32m[0317 10:21:38 @registry.py:90]\u001b[0m 'syn/stage0/pool3/res1/conv0': [?, 30, 30, 256] --> [?, 28, 28, 256]\n",
            "\u001b[32m[0317 10:21:38 @registry.py:90]\u001b[0m 'syn/stage0/pool3/res1/conv1': [?, 30, 30, 256] --> [?, 28, 28, 256]\n",
            "\u001b[32m[0317 10:21:39 @registry.py:90]\u001b[0m 'syn/stage0/pool2/grad_conv1': [?, 58, 58, 128] --> [?, 56, 56, 128]\n",
            "\u001b[32m[0317 10:21:39 @registry.py:90]\u001b[0m 'syn/stage0/pool2/grad_conv2': [?, 58, 58, 128] --> [?, 56, 56, 128]\n",
            "\u001b[32m[0317 10:21:39 @registry.py:90]\u001b[0m 'syn/stage0/pool2/up/conv': [?, 58, 58, 256] --> [?, 56, 56, 128]\n",
            "\u001b[32m[0317 10:21:39 @registry.py:90]\u001b[0m 'syn/stage0/pool2/res0/conv0': [?, 58, 58, 128] --> [?, 56, 56, 128]\n",
            "\u001b[32m[0317 10:21:39 @registry.py:90]\u001b[0m 'syn/stage0/pool2/res0/conv1': [?, 58, 58, 128] --> [?, 56, 56, 128]\n",
            "\u001b[32m[0317 10:21:39 @registry.py:90]\u001b[0m 'syn/stage0/pool2/res1/conv0': [?, 58, 58, 128] --> [?, 56, 56, 128]\n",
            "\u001b[32m[0317 10:21:39 @registry.py:90]\u001b[0m 'syn/stage0/pool2/res1/conv1': [?, 58, 58, 128] --> [?, 56, 56, 128]\n",
            "\u001b[32m[0317 10:21:39 @registry.py:90]\u001b[0m 'syn/stage0/pool1/grad_conv1': [?, 114, 114, 64] --> [?, 112, 112, 64]\n",
            "\u001b[32m[0317 10:21:39 @registry.py:90]\u001b[0m 'syn/stage0/pool1/grad_conv2': [?, 114, 114, 64] --> [?, 112, 112, 64]\n",
            "\u001b[32m[0317 10:21:39 @registry.py:90]\u001b[0m 'syn/stage0/pool1/up/conv': [?, 114, 114, 128] --> [?, 112, 112, 64]\n",
            "\u001b[32m[0317 10:21:39 @registry.py:90]\u001b[0m 'syn/stage0/pool1/res0/conv0': [?, 114, 114, 64] --> [?, 112, 112, 64]\n",
            "\u001b[32m[0317 10:21:39 @registry.py:90]\u001b[0m 'syn/stage0/pool1/res0/conv1': [?, 114, 114, 64] --> [?, 112, 112, 64]\n",
            "\u001b[32m[0317 10:21:39 @registry.py:90]\u001b[0m 'syn/stage0/pool1/res1/conv0': [?, 114, 114, 64] --> [?, 112, 112, 64]\n",
            "\u001b[32m[0317 10:21:39 @registry.py:90]\u001b[0m 'syn/stage0/pool1/res1/conv1': [?, 114, 114, 64] --> [?, 112, 112, 64]\n",
            "\u001b[32m[0317 10:21:39 @registry.py:90]\u001b[0m 'syn/stage0/conv1_1/grad_conv1': [?, 226, 226, 64] --> [?, 224, 224, 64]\n",
            "\u001b[32m[0317 10:21:39 @registry.py:90]\u001b[0m 'syn/stage0/conv1_1/grad_conv2': [?, 226, 226, 64] --> [?, 224, 224, 64]\n",
            "\u001b[32m[0317 10:21:39 @registry.py:90]\u001b[0m 'syn/stage0/conv1_1/up/conv': [?, 226, 226, 64] --> [?, 224, 224, 64]\n",
            "\u001b[32m[0317 10:21:39 @registry.py:90]\u001b[0m 'syn/stage0/conv1_1/res0/conv0': [?, 226, 226, 64] --> [?, 224, 224, 64]\n",
            "\u001b[32m[0317 10:21:39 @registry.py:90]\u001b[0m 'syn/stage0/conv1_1/res0/conv1': [?, 226, 226, 64] --> [?, 224, 224, 64]\n",
            "\u001b[32m[0317 10:21:39 @registry.py:90]\u001b[0m 'syn/stage0/conv1_1/res1/conv0': [?, 226, 226, 64] --> [?, 224, 224, 64]\n",
            "\u001b[32m[0317 10:21:39 @registry.py:90]\u001b[0m 'syn/stage0/conv1_1/res1/conv1': [?, 226, 226, 64] --> [?, 224, 224, 64]\n",
            "\u001b[32m[0317 10:21:39 @registry.py:90]\u001b[0m 'syn/stage0/convlast': [?, 226, 226, 64] --> [?, 224, 224, 3]\n",
            "Build vgg19 model: vgg19\n",
            "\u001b[32m[0317 10:21:43 @model_utils.py:67]\u001b[0m \u001b[36mList of Trainable Variables: \n",
            "\u001b[0mname                                       shape               #elements\n",
            "-----------------------------------------  ----------------  -----------\n",
            "syn/stage0/pool4/grad_conv1/W              [3, 3, 512, 512]      2359296\n",
            "syn/stage0/pool4/grad_conv1/inorm/beta     [512]                     512\n",
            "syn/stage0/pool4/grad_conv1/inorm/gamma    [512]                     512\n",
            "syn/stage0/pool4/grad_conv2/W              [3, 3, 512, 512]      2359296\n",
            "syn/stage0/pool4/post_inorm/beta           [512]                     512\n",
            "syn/stage0/pool4/post_inorm/gamma          [512]                     512\n",
            "syn/stage0/pool4/res0/conv0/W              [3, 3, 512, 512]      2359296\n",
            "syn/stage0/pool4/res0/conv0/inorm/beta     [512]                     512\n",
            "syn/stage0/pool4/res0/conv0/inorm/gamma    [512]                     512\n",
            "syn/stage0/pool4/res0/conv1/W              [3, 3, 512, 512]      2359296\n",
            "syn/stage0/pool4/res0/inorm/beta           [512]                     512\n",
            "syn/stage0/pool4/res0/inorm/gamma          [512]                     512\n",
            "syn/stage0/pool4/res1/conv0/W              [3, 3, 512, 512]      2359296\n",
            "syn/stage0/pool4/res1/conv0/inorm/beta     [512]                     512\n",
            "syn/stage0/pool4/res1/conv0/inorm/gamma    [512]                     512\n",
            "syn/stage0/pool4/res1/conv1/W              [3, 3, 512, 512]      2359296\n",
            "syn/stage0/pool4/res1/inorm/beta           [512]                     512\n",
            "syn/stage0/pool4/res1/inorm/gamma          [512]                     512\n",
            "syn/stage0/pool3/grad_conv1/W              [3, 3, 256, 256]       589824\n",
            "syn/stage0/pool3/grad_conv1/inorm/beta     [256]                     256\n",
            "syn/stage0/pool3/grad_conv1/inorm/gamma    [256]                     256\n",
            "syn/stage0/pool3/grad_conv2/W              [3, 3, 256, 256]       589824\n",
            "syn/stage0/pool3/up/conv/W                 [3, 3, 512, 256]      1179648\n",
            "syn/stage0/pool3/post_inorm/beta           [256]                     256\n",
            "syn/stage0/pool3/post_inorm/gamma          [256]                     256\n",
            "syn/stage0/pool3/res0/conv0/W              [3, 3, 256, 256]       589824\n",
            "syn/stage0/pool3/res0/conv0/inorm/beta     [256]                     256\n",
            "syn/stage0/pool3/res0/conv0/inorm/gamma    [256]                     256\n",
            "syn/stage0/pool3/res0/conv1/W              [3, 3, 256, 256]       589824\n",
            "syn/stage0/pool3/res0/inorm/beta           [256]                     256\n",
            "syn/stage0/pool3/res0/inorm/gamma          [256]                     256\n",
            "syn/stage0/pool3/res1/conv0/W              [3, 3, 256, 256]       589824\n",
            "syn/stage0/pool3/res1/conv0/inorm/beta     [256]                     256\n",
            "syn/stage0/pool3/res1/conv0/inorm/gamma    [256]                     256\n",
            "syn/stage0/pool3/res1/conv1/W              [3, 3, 256, 256]       589824\n",
            "syn/stage0/pool3/res1/inorm/beta           [256]                     256\n",
            "syn/stage0/pool3/res1/inorm/gamma          [256]                     256\n",
            "syn/stage0/pool2/grad_conv1/W              [3, 3, 128, 128]       147456\n",
            "syn/stage0/pool2/grad_conv1/inorm/beta     [128]                     128\n",
            "syn/stage0/pool2/grad_conv1/inorm/gamma    [128]                     128\n",
            "syn/stage0/pool2/grad_conv2/W              [3, 3, 128, 128]       147456\n",
            "syn/stage0/pool2/up/conv/W                 [3, 3, 256, 128]       294912\n",
            "syn/stage0/pool2/post_inorm/beta           [128]                     128\n",
            "syn/stage0/pool2/post_inorm/gamma          [128]                     128\n",
            "syn/stage0/pool2/res0/conv0/W              [3, 3, 128, 128]       147456\n",
            "syn/stage0/pool2/res0/conv0/inorm/beta     [128]                     128\n",
            "syn/stage0/pool2/res0/conv0/inorm/gamma    [128]                     128\n",
            "syn/stage0/pool2/res0/conv1/W              [3, 3, 128, 128]       147456\n",
            "syn/stage0/pool2/res0/inorm/beta           [128]                     128\n",
            "syn/stage0/pool2/res0/inorm/gamma          [128]                     128\n",
            "syn/stage0/pool2/res1/conv0/W              [3, 3, 128, 128]       147456\n",
            "syn/stage0/pool2/res1/conv0/inorm/beta     [128]                     128\n",
            "syn/stage0/pool2/res1/conv0/inorm/gamma    [128]                     128\n",
            "syn/stage0/pool2/res1/conv1/W              [3, 3, 128, 128]       147456\n",
            "syn/stage0/pool2/res1/inorm/beta           [128]                     128\n",
            "syn/stage0/pool2/res1/inorm/gamma          [128]                     128\n",
            "syn/stage0/pool1/grad_conv1/W              [3, 3, 64, 64]          36864\n",
            "syn/stage0/pool1/grad_conv1/inorm/beta     [64]                       64\n",
            "syn/stage0/pool1/grad_conv1/inorm/gamma    [64]                       64\n",
            "syn/stage0/pool1/grad_conv2/W              [3, 3, 64, 64]          36864\n",
            "syn/stage0/pool1/up/conv/W                 [3, 3, 128, 64]         73728\n",
            "syn/stage0/pool1/post_inorm/beta           [64]                       64\n",
            "syn/stage0/pool1/post_inorm/gamma          [64]                       64\n",
            "syn/stage0/pool1/res0/conv0/W              [3, 3, 64, 64]          36864\n",
            "syn/stage0/pool1/res0/conv0/inorm/beta     [64]                       64\n",
            "syn/stage0/pool1/res0/conv0/inorm/gamma    [64]                       64\n",
            "syn/stage0/pool1/res0/conv1/W              [3, 3, 64, 64]          36864\n",
            "syn/stage0/pool1/res0/inorm/beta           [64]                       64\n",
            "syn/stage0/pool1/res0/inorm/gamma          [64]                       64\n",
            "syn/stage0/pool1/res1/conv0/W              [3, 3, 64, 64]          36864\n",
            "syn/stage0/pool1/res1/conv0/inorm/beta     [64]                       64\n",
            "syn/stage0/pool1/res1/conv0/inorm/gamma    [64]                       64\n",
            "syn/stage0/pool1/res1/conv1/W              [3, 3, 64, 64]          36864\n",
            "syn/stage0/pool1/res1/inorm/beta           [64]                       64\n",
            "syn/stage0/pool1/res1/inorm/gamma          [64]                       64\n",
            "syn/stage0/conv1_1/grad_conv1/W            [3, 3, 64, 64]          36864\n",
            "syn/stage0/conv1_1/grad_conv1/inorm/beta   [64]                       64\n",
            "syn/stage0/conv1_1/grad_conv1/inorm/gamma  [64]                       64\n",
            "syn/stage0/conv1_1/grad_conv2/W            [3, 3, 64, 64]          36864\n",
            "syn/stage0/conv1_1/up/conv/W               [3, 3, 64, 64]          36864\n",
            "syn/stage0/conv1_1/post_inorm/beta         [64]                       64\n",
            "syn/stage0/conv1_1/post_inorm/gamma        [64]                       64\n",
            "syn/stage0/conv1_1/res0/conv0/W            [3, 3, 64, 64]          36864\n",
            "syn/stage0/conv1_1/res0/conv0/inorm/beta   [64]                       64\n",
            "syn/stage0/conv1_1/res0/conv0/inorm/gamma  [64]                       64\n",
            "syn/stage0/conv1_1/res0/conv1/W            [3, 3, 64, 64]          36864\n",
            "syn/stage0/conv1_1/res0/inorm/beta         [64]                       64\n",
            "syn/stage0/conv1_1/res0/inorm/gamma        [64]                       64\n",
            "syn/stage0/conv1_1/res1/conv0/W            [3, 3, 64, 64]          36864\n",
            "syn/stage0/conv1_1/res1/conv0/inorm/beta   [64]                       64\n",
            "syn/stage0/conv1_1/res1/conv0/inorm/gamma  [64]                       64\n",
            "syn/stage0/conv1_1/res1/conv1/W            [3, 3, 64, 64]          36864\n",
            "syn/stage0/conv1_1/res1/inorm/beta         [64]                       64\n",
            "syn/stage0/conv1_1/res1/inorm/gamma        [64]                       64\n",
            "syn/stage0/convlast/W                      [3, 3, 64, 3]            1728\n",
            "syn/stage0/convlast/b                      [3]                         3\u001b[36m\n",
            "Number of trainable variables: 96\n",
            "Number of parameters (elements): 20620995\n",
            "Storage space needed for all trainable variables: 78.66MB\u001b[0m\n",
            "\u001b[32m[0317 10:21:43 @base.py:207]\u001b[0m Setup callbacks graph ...\n",
            "\u001b[32m[0317 10:21:44 @summary.py:94]\u001b[0m Summarizing collection 'summaries' of size 10.\n",
            "\u001b[32m[0317 10:21:44 @summary.py:94]\u001b[0m Summarizing collection 'image_summaries' of size 1.\n",
            "\u001b[32m[0317 10:21:44 @summary.py:46]\u001b[0m [MovingAverageSummary] 8 operations in collection 'MOVING_SUMMARY_OPS' will be run with session hooks.\n",
            "\u001b[32m[0317 10:21:44 @summary.py:94]\u001b[0m Summarizing collection 'summaries' of size 10.\n",
            "\u001b[32m[0317 10:21:44 @base.py:228]\u001b[0m Creating the session ...\n",
            "2023-03-17 10:21:48.365169: W tensorflow/c/c_api.cc:291] Operation '{name:'EMA/loss_layer_output/pool4/local_step/Assign' id:2723 op device:{requested: '', assigned: ''} def:{{{node EMA/loss_layer_output/pool4/local_step/Assign}} = AssignVariableOp[_has_manual_control_dependencies=true, dtype=DT_FLOAT, validate_shape=false](EMA/loss_layer_output/pool4/local_step, EMA/loss_layer_output/pool4/local_step/Initializer/zeros)}}' was changed by setting attribute after it was run by a session. This mutation will have no effect, and will trigger an error in the future. Either don't modify nodes after running them or create a new session.\n",
            "\u001b[32m[0317 10:21:48 @base.py:234]\u001b[0m Initializing the session ...\n",
            "\u001b[32m[0317 10:21:48 @base.py:241]\u001b[0m Graph Finalized.\n",
            "\u001b[32m[0317 10:21:49 @concurrency.py:36]\u001b[0m Starting EnqueueThread: enqueue dataflow to TF queue \"QueueInput/input_queue\" ...\n",
            "\u001b[32m[0317 10:21:49 @common.py:839]\u001b[0m \u001b[36mContents of DataFlow:\u001b[0m\n",
            "\u001b[36mdatapoint 0/1 with 2 components consists of\u001b[0m\n",
            "  0: ndarray:float64 of shape (1, 224, 224, 3) in range [-0.999960336251875, 0.9999800317449088]\n",
            "  1: ndarray:uint8 of shape (1, 224, 224, 3) in range [0, 255]\n",
            "\u001b[32m[0317 10:21:50 @base.py:273]\u001b[0m Start Epoch 1 ...\n",
            "100% 4000/4000 [09:03<00:00,  7.37it/s]\n",
            "\u001b[32m[0317 10:30:53 @base.py:282]\u001b[0m Epoch 1 (global_step 4000) finished, time:9 minutes 3 seconds.\n",
            "\u001b[32m[0317 10:30:55 @saver.py:82]\u001b[0m Model saved to checkpoint/model-4000.\n",
            "\u001b[32m[0317 10:30:55 @monitor.py:476]\u001b[0m QueueInput/queue_size: 50\n",
            "\u001b[32m[0317 10:30:55 @monitor.py:476]\u001b[0m loss: 11958\n",
            "\u001b[32m[0317 10:30:55 @monitor.py:476]\u001b[0m loss_layer_output/conv1_1: 0.46636\n",
            "\u001b[32m[0317 10:30:55 @monitor.py:476]\u001b[0m loss_layer_output/pool1: 0.011911\n",
            "\u001b[32m[0317 10:30:55 @monitor.py:476]\u001b[0m loss_layer_output/pool2: 6.3113e-05\n",
            "\u001b[32m[0317 10:30:55 @monitor.py:476]\u001b[0m loss_layer_output/pool3: 8.3621e-09\n",
            "\u001b[32m[0317 10:30:55 @monitor.py:476]\u001b[0m loss_layer_output/pool4: 1.7279e-08\n",
            "\u001b[32m[0317 10:30:55 @monitor.py:476]\u001b[0m loss_output: 11958\n",
            "\u001b[32m[0317 10:30:55 @monitor.py:476]\u001b[0m optimize/learning_rate: 5e-05\n",
            "\u001b[32m[0317 10:30:55 @monitor.py:476]\u001b[0m syn/loss0: 5.8505e+05\n",
            "\u001b[32m[0317 10:30:55 @base.py:273]\u001b[0m Start Epoch 2 ...\n",
            " 46% 1848/4000 [03:54<04:30,  7.95it/s]"
          ]
        }
      ]
    },
    {
      "cell_type": "code",
      "source": [],
      "metadata": {
        "id": "12P2RF_rDv9o"
      },
      "execution_count": null,
      "outputs": []
    }
  ]
}